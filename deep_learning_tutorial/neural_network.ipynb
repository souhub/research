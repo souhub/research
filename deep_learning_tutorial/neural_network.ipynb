{
  "nbformat": 4,
  "nbformat_minor": 0,
  "metadata": {
    "colab": {
      "name": "neural_network.ipynb",
      "provenance": [],
      "authorship_tag": "ABX9TyMA5M/fzb9yaL11K3LGCjdy",
      "include_colab_link": true
    },
    "kernelspec": {
      "name": "python3",
      "display_name": "Python 3"
    },
    "language_info": {
      "name": "python"
    }
  },
  "cells": [
    {
      "cell_type": "markdown",
      "metadata": {
        "id": "view-in-github",
        "colab_type": "text"
      },
      "source": [
        "<a href=\"https://colab.research.google.com/github/souhub/research/blob/main/deep_learning_tutorial/neural_network.ipynb\" target=\"_parent\"><img src=\"https://colab.research.google.com/assets/colab-badge.svg\" alt=\"Open In Colab\"/></a>"
      ]
    },
    {
      "cell_type": "code",
      "metadata": {
        "id": "tpgJUL0wlGJy"
      },
      "source": [
        "import numpy as np\n",
        "from tensorflow.python import keras as K"
      ],
      "execution_count": 1,
      "outputs": []
    },
    {
      "cell_type": "code",
      "metadata": {
        "colab": {
          "base_uri": "https://localhost:8080/"
        },
        "id": "kLRUAG8QlPjE",
        "outputId": "684c150e-3b90-4929-9865-1f0621ea1c65"
      },
      "source": [
        "model = K.Sequential([\n",
        "    K.layers.Dense(units=4, input_shape=((2,)))\n",
        "])\n",
        "\n",
        "weight, bias = model.layers[0].get_weights()\n",
        "\n",
        "print(\"Weight shape is {}\".format(weight.shape))\n",
        "print(\"Bias shape is {}\".format(bias.shape))\n",
        "\n",
        "x = np.random.rand(1, 2)\n",
        "y = model.predict(x)\n",
        "print(\"x is ({}) and is ({})\".format(x.shape, y.shape))"
      ],
      "execution_count": 2,
      "outputs": [
        {
          "output_type": "stream",
          "name": "stdout",
          "text": [
            "Weight shape is (2, 4)\n",
            "Bias shape is (4,)\n",
            "x is ((1, 2)) and is ((1, 4))\n"
          ]
        }
      ]
    },
    {
      "cell_type": "code",
      "metadata": {
        "id": "ygkPyCRclSBB"
      },
      "source": [
        ""
      ],
      "execution_count": null,
      "outputs": []
    }
  ]
}