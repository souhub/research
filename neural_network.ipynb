{
  "nbformat": 4,
  "nbformat_minor": 0,
  "metadata": {
    "colab": {
      "name": "neural_network.ipynb",
      "provenance": [],
      "collapsed_sections": [],
      "authorship_tag": "ABX9TyPzEWY+cKZk/jVxmFLxdDJX",
      "include_colab_link": true
    },
    "kernelspec": {
      "name": "python3",
      "display_name": "Python 3"
    },
    "language_info": {
      "name": "python"
    }
  },
  "cells": [
    {
      "cell_type": "markdown",
      "metadata": {
        "id": "view-in-github",
        "colab_type": "text"
      },
      "source": [
        "<a href=\"https://colab.research.google.com/github/souhub/research/blob/main/neural_network.ipynb\" target=\"_parent\"><img src=\"https://colab.research.google.com/assets/colab-badge.svg\" alt=\"Open In Colab\"/></a>"
      ]
    },
    {
      "cell_type": "code",
      "metadata": {
        "id": "tpgJUL0wlGJy"
      },
      "source": [
        "import numpy as np\n",
        "from tensorflow.python import keras as K"
      ],
      "execution_count": 1,
      "outputs": []
    },
    {
      "cell_type": "code",
      "metadata": {
        "colab": {
          "base_uri": "https://localhost:8080/"
        },
        "id": "kLRUAG8QlPjE",
        "outputId": "9a9e77b5-4e19-4d26-d395-29b7f909904b"
      },
      "source": [
        "# A neural network that has 2 layers.\n",
        "model = K.Sequential([\n",
        "    K.layers.Dense(units=4, input_shape=((2,)),activation=\"sigmoid\"),\n",
        "    K.layers.Dense(units=4)\n",
        "])\n",
        "\n",
        "# A batch whose size is 3.\n",
        "batch=np.random.rand(3,2)\n",
        "\n",
        "y=model.predict(batch)\n",
        "print(y)"
      ],
      "execution_count": 7,
      "outputs": [
        {
          "output_type": "stream",
          "name": "stdout",
          "text": [
            "WARNING:tensorflow:6 out of the last 6 calls to <function Model.make_predict_function.<locals>.predict_function at 0x7f0b53d057a0> triggered tf.function retracing. Tracing is expensive and the excessive number of tracings could be due to (1) creating @tf.function repeatedly in a loop, (2) passing tensors with different shapes, (3) passing Python objects instead of tensors. For (1), please define your @tf.function outside of the loop. For (2), @tf.function has experimental_relax_shapes=True option that relaxes argument shapes that can avoid unnecessary retracing. For (3), please refer to https://www.tensorflow.org/guide/function#controlling_retracing and https://www.tensorflow.org/api_docs/python/tf/function for  more details.\n",
            "[[ 0.4481186   0.2260507  -0.12044048  0.394045  ]\n",
            " [ 0.3615101   0.25825977 -0.11568062  0.32223248]\n",
            " [ 0.34993953  0.20073038 -0.10865635  0.3771503 ]]\n"
          ]
        }
      ]
    },
    {
      "cell_type": "code",
      "metadata": {
        "id": "ygkPyCRclSBB"
      },
      "source": [
        "import numpy as np\n",
        "from sklearn.model_selection import train_test_split\n",
        "from sklearn.datasets import load_boston \n",
        "import pandas as pd \n",
        "import matplotlib.pyplot as plt \n",
        "from tensorflow.python import keras as K"
      ],
      "execution_count": 10,
      "outputs": []
    },
    {
      "cell_type": "code",
      "metadata": {
        "id": "NLsO6104oT80"
      },
      "source": [
        "dataset=load_boston()\n",
        "y=dataset.target\n",
        "X=dataset.data"
      ],
      "execution_count": 16,
      "outputs": []
    },
    {
      "cell_type": "code",
      "metadata": {
        "id": "95DUpY_pohpm"
      },
      "source": [
        "X_train,X_test,y_train,y_test=train_test_split(X,y,test_size=0.33)"
      ],
      "execution_count": 20,
      "outputs": []
    },
    {
      "cell_type": "code",
      "metadata": {
        "id": "35aF7ca7oxiO"
      },
      "source": [
        "model=K.Sequential([\n",
        "                    K.layers.BatchNormalization(input_shape=(13,)),\n",
        "                    K.layers.Dense(units=13,activation=\"softplus\",kernel_regularizer=\"l1\"),\n",
        "                    K.layers.Dense(units=1)\n",
        "])"
      ],
      "execution_count": 18,
      "outputs": []
    },
    {
      "cell_type": "code",
      "metadata": {
        "colab": {
          "base_uri": "https://localhost:8080/"
        },
        "id": "-4hk9jjppgSh",
        "outputId": "77be594b-1fe3-4132-cac7-c34c829a8946"
      },
      "source": [
        "model.compile(loss=\"mean_squared_error\",optimizer=\"sgd\")\n",
        "model.fit(X_train,y_train,epochs=8)"
      ],
      "execution_count": 21,
      "outputs": [
        {
          "output_type": "stream",
          "name": "stdout",
          "text": [
            "Epoch 1/8\n",
            "11/11 [==============================] - 0s 2ms/step - loss: 162.9147\n",
            "Epoch 2/8\n",
            "11/11 [==============================] - 0s 1ms/step - loss: 60.7867\n",
            "Epoch 3/8\n",
            "11/11 [==============================] - 0s 1ms/step - loss: 32.1626\n",
            "Epoch 4/8\n",
            "11/11 [==============================] - 0s 1ms/step - loss: 44.2915\n",
            "Epoch 5/8\n",
            "11/11 [==============================] - 0s 2ms/step - loss: 30.3836\n",
            "Epoch 6/8\n",
            "11/11 [==============================] - 0s 1ms/step - loss: 31.1253\n",
            "Epoch 7/8\n",
            "11/11 [==============================] - 0s 1ms/step - loss: 22.5479\n",
            "Epoch 8/8\n",
            "11/11 [==============================] - 0s 1ms/step - loss: 28.4062\n"
          ]
        },
        {
          "output_type": "execute_result",
          "data": {
            "text/plain": [
              "<tensorflow.python.keras.callbacks.History at 0x7f0b44b33f50>"
            ]
          },
          "metadata": {},
          "execution_count": 21
        }
      ]
    },
    {
      "cell_type": "code",
      "metadata": {
        "id": "SUd6ED4ls-ZM"
      },
      "source": [
        "predicts=model.predict(X_test)"
      ],
      "execution_count": 23,
      "outputs": []
    },
    {
      "cell_type": "code",
      "metadata": {
        "id": "yvEDAKkLtOYe"
      },
      "source": [
        "result=pd.DataFrame({\n",
        "    \"predict\":np.reshape(predicts,(-1,)),\n",
        "    \"actual\":y_test\n",
        "})"
      ],
      "execution_count": 24,
      "outputs": []
    },
    {
      "cell_type": "code",
      "metadata": {
        "colab": {
          "base_uri": "https://localhost:8080/",
          "height": 283
        },
        "id": "ABzdGOQ5taTA",
        "outputId": "24484998-9a44-4a48-f174-ded515f7a7bb"
      },
      "source": [
        "limit=np.max(y_test)\n",
        "result.plot.scatter(x=\"actual\",y=\"predict\",xlim=(0,limit),ylim=(0,limit))\n",
        "plt.show()"
      ],
      "execution_count": 25,
      "outputs": [
        {
          "output_type": "display_data",
          "data": {
            "image/png": "[encoded data removed]",
            "text/plain": [
              "<Figure size 432x288 with 1 Axes>"
            ]
          },
          "metadata": {
            "needs_background": "light"
          }
        }
      ]
    }
  ]
}